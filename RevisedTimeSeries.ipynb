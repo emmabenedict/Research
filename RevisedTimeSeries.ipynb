{
 "cells": [
  {
   "cell_type": "markdown",
   "id": "dca06a7f-0568-4c3a-878f-f5e50d27ec85",
   "metadata": {},
   "source": [
    "# Time Series for both model and observational data"
   ]
  },
  {
   "cell_type": "markdown",
   "id": "52cf949b-1be5-4868-8996-cf8f6acbe367",
   "metadata": {},
   "source": [
    "##### This script contains the updated time series for the model and observational data. They are plotted as subplots to provide a side by side comparison. The units are converted to mm/day for all datasets."
   ]
  },
  {
   "cell_type": "code",
   "execution_count": 1,
   "id": "ced129ce-d808-4077-8928-6f20c5ac2d7b",
   "metadata": {},
   "outputs": [],
   "source": [
    "import numpy as np\n",
    "import xarray as xr\n",
    "import matplotlib.pyplot as plt\n",
    "import cartopy.crs as ccrs\n",
    "import cartopy.feature as cfeature\n",
    "import cftime\n",
    "import pandas as pd"
   ]
  },
  {
   "cell_type": "code",
   "execution_count": 4,
   "id": "c22b70cf-fb24-451e-b760-b03a8f5e0710",
   "metadata": {},
   "outputs": [],
   "source": [
    "path = '/Users/emmabenedict/Desktop/Code/'"
   ]
  },
  {
   "cell_type": "code",
   "execution_count": 5,
   "id": "83b4c23d-a597-4e58-a7a9-55389af61b8f",
   "metadata": {},
   "outputs": [],
   "source": [
    "#Load .nc file for E3SM.HR and E3SM.MMF\n",
    "#HR\n",
    "esm_hr = xr.open_dataset(path + 'E3SM.HR.ne120pg2.0001-0010.US.2x2.5.hourly.PRECC.PRECL.nc')\n",
    "#MMF\n",
    "esm_mmf = xr.open_dataset(path + 'E3SM.MMF.ne30pg2_CRM64x2000.0001-0010.US.2x2.5.hourly.PRECC.PRECL.nc')"
   ]
  },
  {
   "cell_type": "code",
   "execution_count": 6,
   "id": "06c10843-1af6-486a-8e8c-ff6a216a7eea",
   "metadata": {},
   "outputs": [],
   "source": [
    "#Load .nc file for CPC\n",
    "cpc_nc = xr.open_dataset(path + 'CPC.1958-1997.US.2x2.5.hourly.precip.nc')\n",
    "#Load .nc file for IMERG\n",
    "imerg_nc = xr.open_dataset(path + 'IMERG.2001-2020.US.2x2.5.half_hourly.precipitationCal.nc')"
   ]
  },
  {
   "cell_type": "code",
   "execution_count": null,
   "id": "991937fc-3a92-43ff-98a6-605f4b2d2ecd",
   "metadata": {},
   "outputs": [],
   "source": [
    "#Load variables\n",
    "#HR\n",
    "lat_hr = esm_hr.lat\n",
    "lon_hr = esm_hr.lon\n",
    "time_hr = esm_hr.time\n",
    "precc_hr = esm_hr.PRECC\n",
    "precl_hr = esm_hr.PRECL\n",
    "precip_hr = precc_hr + precl_hr\n",
    "area_hr = esm_hr.area\n",
    "#MMF\n",
    "lat_mmf = esm_mmf.lat\n",
    "lon_mmf = esm_mmf.lon\n",
    "time_mmf = esm_mmf.time\n",
    "precc_mmf = esm_mmf.PRECC\n",
    "precl_mmf = esm_mmf.PRECL\n",
    "precip_mmf = precc_mmf + precl_mmf\n",
    "area_mmf = esm_mmf.area"
   ]
  },
  {
   "cell_type": "code",
   "execution_count": null,
   "id": "4f0377fa-40ca-437d-9ab7-31a853e1e2ad",
   "metadata": {},
   "outputs": [],
   "source": [
    "#Load variables\n",
    "#CPC\n",
    "lat_cpc = cpc_nc.lat\n",
    "lon_cpc = cpc_nc.lon\n",
    "time_cpc = cpc_nc.time\n",
    "precip_cpc = cpc_nc.precip\n",
    "#MMF\n",
    "lat_img = imerg_nc.lat\n",
    "lon_img = imerg_nc.lon\n",
    "time_img = imerg_nc.time\n",
    "precip_img = imerg_nc.precipitationCal"
   ]
  },
  {
   "cell_type": "code",
   "execution_count": null,
   "id": "4ff5c2ad-d34c-48da-bdd2-37efb5d3a0e4",
   "metadata": {},
   "outputs": [],
   "source": [
    "#Pick out two locations: Athens, GA & Seattle, WA for E3SM\n",
    "hr_athens = precip_hr.sel(lon=276.64,lat=33.95,method=\"nearest\")*1000*60*60*24\n",
    "hr_seattle = precip_hr.sel(lon=237.67,lat=47.60,method=\"nearest\")*1000*60*60*24\n",
    "mmf_athens = precip_mmf.sel(lon=276.64,lat=33.95,method=\"nearest\")*1000*60*60*24\n",
    "mmf_seattle = precip_mmf.sel(lon=237.67,lat=47.60,method=\"nearest\")*1000*60*60*24\n",
    "#Pick out two locations: Athens, GA & Seattle, WA for Obs\n",
    "cpc_athens = precip_cpc.sel(lon=276.64,lat=33.95,method=\"nearest\")*25.4*24\n",
    "cpc_seattle = precip_cpc.sel(lon=237.67,lat=47.60,method=\"nearest\")*25.4*24\n",
    "img_athens = precip_img.sel(lon=276.64,lat=33.95,method=\"nearest\")*24\n",
    "img_seattle = precip_img.sel(lon=237.67,lat=47.60,method=\"nearest\")*24"
   ]
  },
  {
   "cell_type": "code",
   "execution_count": null,
   "id": "24041b0f-a13e-47cf-9e24-775eb2ddba55",
   "metadata": {},
   "outputs": [],
   "source": [
    "#Filter out nans\n",
    "filter_athens_cpc = cpc_athens.dropna(dim='time')\n",
    "filter_athens_img = img_athens.dropna(dim='time')\n",
    "filter_seattle_cpc = cpc_seattle.dropna(dim='time')\n",
    "filter_seattle_img = img_seattle.dropna(dim='time')\n",
    "#np.nanpercentile()"
   ]
  },
  {
   "cell_type": "code",
   "execution_count": null,
   "id": "e156537e-a500-4cc2-b57d-cb57170046db",
   "metadata": {},
   "outputs": [],
   "source": [
    "#Calculate averages\n",
    "#Athens\n",
    "avg_hr_athens = np.mean(hr_athens)\n",
    "avg_mmf_athens = np.mean(mmf_athens)\n",
    "avg_cpc_athens = np.mean(cpc_athens)\n",
    "avg_img_athens = np.mean(img_athens)\n",
    "#Seattle\n",
    "avg_hr_seattle = np.mean(hr_seattle)\n",
    "avg_mmf_seattle = np.mean(mmf_seattle)\n",
    "avg_cpc_seattle = np.mean(cpc_seattle)\n",
    "avg_img_seattle = np.mean(img_seattle)"
   ]
  },
  {
   "cell_type": "code",
   "execution_count": null,
   "id": "db58adec-f779-4dc9-a3e1-e03d65abdb55",
   "metadata": {},
   "outputs": [],
   "source": [
    "#Calculate 99th percentile\n",
    "#Athens\n",
    "hr_athens_99 = np.percentile(hr_athens,99)\n",
    "mmf_athens_99 = np.percentile(mmf_athens,99)\n",
    "cpc_athens_99 = np.percentile(filter_athens_cpc,99)\n",
    "img_athens_99 = np.percentile(filter_athens_img,99)\n",
    "#Seattle\n",
    "hr_seattle_99 = np.percentile(hr_seattle,99)\n",
    "mmf_seattle_99 = np.percentile(mmf_seattle,99)\n",
    "cpc_seattle_99 = np.percentile(filter_seattle_cpc,99)\n",
    "img_seattle_99 = np.percentile(filter_seattle_img,99)"
   ]
  },
  {
   "cell_type": "code",
   "execution_count": null,
   "id": "2d487303-4d4b-4b93-bfb6-b1bf723fc4ee",
   "metadata": {},
   "outputs": [],
   "source": [
    "print(cpc_seattle_99)"
   ]
  },
  {
   "cell_type": "code",
   "execution_count": null,
   "id": "db16e2a7-29e0-47f9-81a4-88e6388f1fa0",
   "metadata": {},
   "outputs": [],
   "source": [
    "plt.figure(figsize = (10,10))\n",
    "plt.subplot(4,2,1)\n",
    "hr_athens.plot(color = \"blue\")\n",
    "plt.axhline(y=hr_athens_99, color='red', linestyle='--', label='99th Percentile')\n",
    "plt.axhline(y=avg_hr_athens, color='cyan', linestyle='--', label='Average')\n",
    "plt.xlabel(\"Time (Years)\")\n",
    "plt.ylabel(\"Rainfall (mm/day)\")\n",
    "plt.legend()\n",
    "plt.title(\"Daily Rainfall in Athens -- HR\")\n",
    "\n",
    "plt.subplot(4,2,2)\n",
    "mmf_athens.plot(color = \"blue\")\n",
    "plt.axhline(y=mmf_athens_99, color='red', linestyle='--', label='99th Percentile')\n",
    "plt.axhline(y=avg_mmf_athens, color='cyan', linestyle='--', label='Average')\n",
    "plt.xlabel(\"Time (Years)\")\n",
    "plt.ylabel(\"Rainfall (mm/day)\")\n",
    "plt.legend()\n",
    "plt.title(\"Daily Rainfall in Athens -- MMF\")\n",
    "\n",
    "plt.subplot(4,2,3)\n",
    "cpc_athens.plot(color = \"blue\")\n",
    "plt.axhline(y=cpc_athens_99, color='red', linestyle='--', label='99th Percentile')\n",
    "plt.axhline(y=avg_cpc_athens, color='cyan', linestyle='--', label='Average')\n",
    "plt.xlabel(\"Time (Years)\")\n",
    "plt.ylabel(\"Rainfall (mm/day)\")\n",
    "plt.legend()\n",
    "plt.title(\"Daily Rainfall in Athens -- CPC\")\n",
    "\n",
    "plt.subplot(4,2,4)\n",
    "img_athens.plot(color = \"blue\")\n",
    "plt.axhline(y=img_athens_99, color='red', linestyle='--', label='99th Percentile')\n",
    "plt.axhline(y=avg_img_athens, color='cyan', linestyle='--', label='Average')\n",
    "plt.xlabel(\"Time (Years)\")\n",
    "plt.ylabel(\"Rainfall (mm/day)\")\n",
    "plt.legend()\n",
    "plt.title(\"Daily Rainfall in Athens -- IMERG\")\n",
    "\n",
    "plt.subplot(4,2,5)\n",
    "hr_seattle.plot(color = \"blue\")\n",
    "plt.axhline(y=hr_seattle_99, color='red', linestyle='--', label='99th Percentile')\n",
    "plt.axhline(y=avg_hr_seattle, color='cyan', linestyle='--', label='Average')\n",
    "plt.xlabel(\"Time (Years)\")\n",
    "plt.ylabel(\"Rainfall (mm/day)\")\n",
    "plt.legend()\n",
    "plt.title(\"Daily Rainfall in Seattle -- HR\")\n",
    "\n",
    "plt.subplot(4,2,6)\n",
    "mmf_seattle.plot(color = \"blue\")\n",
    "plt.axhline(y=mmf_seattle_99, color='red', linestyle='--', label='99th Percentile')\n",
    "plt.axhline(y=avg_mmf_seattle, color='cyan', linestyle='--', label='Average')\n",
    "plt.xlabel(\"Time (Years)\")\n",
    "plt.ylabel(\"Rainfall (mm/day)\")\n",
    "plt.legend()\n",
    "plt.title(\"Daily Rainfall in Seattle -- MMF\")\n",
    "\n",
    "plt.subplot(4,2,7)\n",
    "cpc_seattle.plot(color = \"blue\")\n",
    "plt.axhline(y=cpc_seattle_99, color='red', linestyle='--', label='99th Percentile')\n",
    "plt.axhline(y=avg_cpc_seattle, color='cyan', linestyle='--', label='Average')\n",
    "plt.xlabel(\"Time(Years)\")\n",
    "plt.ylabel(\"Rainfall (mm/day)\")\n",
    "plt.legend()\n",
    "plt.title(\"Daily Rainfall in Seattle -- CPC\")\n",
    "\n",
    "plt.subplot(4,2,8)\n",
    "img_seattle.plot(color = \"blue\")\n",
    "plt.axhline(y=img_seattle_99, color='red', linestyle='--', label='99th Percentile')\n",
    "plt.axhline(y=avg_img_seattle, color='cyan', linestyle='--', label='Average')\n",
    "plt.xlabel(\"Time (Years)\")\n",
    "plt.ylabel(\"Rainfall (mm/day)\")\n",
    "plt.legend()\n",
    "plt.title(\"Daily Rainfall in Seattle -- IMERG\")\n",
    "\n",
    "plt.suptitle('Time Series for Rainfall in Athens, GA, and Seattle, WA', fontsize=12)\n",
    "plt.tight_layout(rect=[0, 0, 1, 0.96])\n",
    "plt.show()"
   ]
  }
 ],
 "metadata": {
  "kernelspec": {
   "display_name": "Python 3 (ipykernel)",
   "language": "python",
   "name": "python3"
  },
  "language_info": {
   "codemirror_mode": {
    "name": "ipython",
    "version": 3
   },
   "file_extension": ".py",
   "mimetype": "text/x-python",
   "name": "python",
   "nbconvert_exporter": "python",
   "pygments_lexer": "ipython3",
   "version": "3.11.5"
  }
 },
 "nbformat": 4,
 "nbformat_minor": 5
}
