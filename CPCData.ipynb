{
 "cells": [
  {
   "cell_type": "markdown",
   "id": "c6f7dbdb-129b-4bf9-a179-840861e4c93f",
   "metadata": {},
   "source": [
    "# Downloading Precipitation Data"
   ]
  },
  {
   "cell_type": "markdown",
   "id": "385fe5e2-bc7d-4ffb-8db0-7eb756eff57c",
   "metadata": {},
   "source": [
    "### Import Packages"
   ]
  },
  {
   "cell_type": "code",
   "execution_count": 1,
   "id": "2961ff98-a895-4be6-9bc3-16f610ec0e99",
   "metadata": {},
   "outputs": [],
   "source": [
    "import numpy as np\n",
    "import xarray as xr\n",
    "import matplotlib.pyplot as plt\n",
    "import cartopy.crs as ccrs\n",
    "import cartopy.feature as cfeature\n",
    "from cartopy.util import add_cyclic_point\n",
    "import netCDF4"
   ]
  },
  {
   "cell_type": "markdown",
   "id": "c768778b-4e23-4d1c-9ba2-c01f4a0e60ba",
   "metadata": {},
   "source": [
    "### Load .nc file"
   ]
  },
  {
   "cell_type": "code",
   "execution_count": 2,
   "id": "4f4fd009-eb40-497c-8eba-fb93f37558ad",
   "metadata": {},
   "outputs": [],
   "source": [
    "#Load .nc file for CPC\n",
    "path = '/Users/emmabenedict/Desktop/CURO 4970R/'\n",
    "cpc_nc = xr.open_dataset(path + 'CPC.1958-1997.US.2x2.5.hourly.precip.nc')"
   ]
  },
  {
   "cell_type": "code",
   "execution_count": 5,
   "id": "e2a4d968-4efe-4804-bd00-f56122b41587",
   "metadata": {
    "scrolled": true
   },
   "outputs": [
    {
     "name": "stdout",
     "output_type": "stream",
     "text": [
      "Frozen({'lat': <xarray.IndexVariable 'lat' (lat: 21)>\n",
      "array([20., 22., 24., 26., 28., 30., 32., 34., 36., 38., 40., 42., 44., 46.,\n",
      "       48., 50., 52., 54., 56., 58., 60.], dtype=float32)\n",
      "Attributes:\n",
      "    units:          degrees_north\n",
      "    long_name:      Latitude\n",
      "    actual_range:   [20. 60.]\n",
      "    standard_name:  latitude\n",
      "    axis:           Y, 'lon': <xarray.IndexVariable 'lon' (lon: 33)>\n",
      "array([220. , 222.5, 225. , 227.5, 230. , 232.5, 235. , 237.5, 240. , 242.5,\n",
      "       245. , 247.5, 250. , 252.5, 255. , 257.5, 260. , 262.5, 265. , 267.5,\n",
      "       270. , 272.5, 275. , 277.5, 280. , 282.5, 285. , 287.5, 290. , 292.5,\n",
      "       295. , 297.5, 300. ], dtype=float32)\n",
      "Attributes:\n",
      "    units:          degrees_east\n",
      "    long_name:      Longitude\n",
      "    actual_range:   [220. 300.]\n",
      "    standard_name:  longitude\n",
      "    axis:           X, 'time': <xarray.IndexVariable 'time' (time: 350640)>\n",
      "array(['1958-01-01T00:00:00.000000000', '1958-01-01T01:00:00.000000000',\n",
      "       '1958-01-01T02:00:00.000000000', ..., '1997-12-31T21:00:00.000000000',\n",
      "       '1997-12-31T22:00:00.000000000', '1997-12-31T23:00:00.000000000'],\n",
      "      dtype='datetime64[ns]')\n",
      "Attributes:\n",
      "    long_name:      Time\n",
      "    actual_range:   [2261568. 2270327.]\n",
      "    delta_t:        0000-00-00 01:00:00\n",
      "    avg_period:     0000-00-00 01:00:00\n",
      "    verification:   accumulation from ob time to one hour later\n",
      "    standard_name:  time\n",
      "    axis:           T\n",
      "    cell_methods:   time: mean, 'precip': <xarray.Variable (time: 350640, lat: 21, lon: 33)>\n",
      "[242993520 values with dtype=float32]\n",
      "Attributes:\n",
      "    long_name:     Hourly Accumulated Precipitation\n",
      "    valid_range:   [ 0. 10.]\n",
      "    actual_range:  [0.       2.501152]\n",
      "    units:         in\n",
      "    precision:     2\n",
      "    var_desc:      Precipitation\n",
      "    dataset:       CPC 2x2.5 Hourly US Precipitation\n",
      "    level_desc:    Surface\n",
      "    statistic:     Hourly Accumulation\n",
      "    parent_stat:   Observation\n",
      "    cell_methods:  time: mean})\n"
     ]
    }
   ],
   "source": [
    "pre"
   ]
  },
  {
   "cell_type": "code",
   "execution_count": 3,
   "id": "eb27acba-89b2-4ee8-b834-63614eb61ea6",
   "metadata": {},
   "outputs": [],
   "source": [
    "#Load variables\n",
    "lat = cpc_nc.lat\n",
    "lon = cpc_nc.lon\n",
    "time = cpc_nc.time\n",
    "precip = cpc_nc.precip"
   ]
  },
  {
   "cell_type": "code",
   "execution_count": 7,
   "id": "2c0ed948-da0f-4290-a9f6-4139f5add0b0",
   "metadata": {},
   "outputs": [
    {
     "name": "stdout",
     "output_type": "stream",
     "text": [
      "<xarray.DataArray 'precip' (time: 350640, lat: 21, lon: 33)>\n",
      "[242993520 values with dtype=float32]\n",
      "Coordinates:\n",
      "  * lat      (lat) float32 20.0 22.0 24.0 26.0 28.0 ... 52.0 54.0 56.0 58.0 60.0\n",
      "  * lon      (lon) float32 220.0 222.5 225.0 227.5 ... 292.5 295.0 297.5 300.0\n",
      "  * time     (time) datetime64[ns] 1958-01-01 ... 1997-12-31T23:00:00\n",
      "Attributes:\n",
      "    long_name:     Hourly Accumulated Precipitation\n",
      "    valid_range:   [ 0. 10.]\n",
      "    actual_range:  [0.       2.501152]\n",
      "    units:         in\n",
      "    precision:     2\n",
      "    var_desc:      Precipitation\n",
      "    dataset:       CPC 2x2.5 Hourly US Precipitation\n",
      "    level_desc:    Surface\n",
      "    statistic:     Hourly Accumulation\n",
      "    parent_stat:   Observation\n",
      "    cell_methods:  time: mean\n"
     ]
    }
   ],
   "source": [
    "print(precip)"
   ]
  },
  {
   "cell_type": "code",
   "execution_count": 8,
   "id": "a23d8c13-155e-4fe5-ac9f-914d3cf303dd",
   "metadata": {},
   "outputs": [
    {
     "data": {
      "text/plain": [
       "<matplotlib.image.AxesImage at 0x1496d3fd0>"
      ]
     },
     "execution_count": 8,
     "metadata": {},
     "output_type": "execute_result"
    },
    {
     "data": {
      "image/png": "[encoded data removed]",
      "text/plain": [
       "<Figure size 640x480 with 1 Axes>"
      ]
     },
     "metadata": {},
     "output_type": "display_data"
    }
   ],
   "source": [
    "plt.imshow(precip[0])"
   ]
  },
  {
   "cell_type": "code",
   "execution_count": 9,
   "id": "47da4031-a136-4974-9859-80dbf81b2420",
   "metadata": {},
   "outputs": [
    {
     "name": "stdout",
     "output_type": "stream",
     "text": [
      "<xarray.DataArray 'precip' (lat: 21, lon: 33)>\n",
      "[693 values with dtype=float32]\n",
      "Coordinates:\n",
      "  * lat      (lat) float32 20.0 22.0 24.0 26.0 28.0 ... 52.0 54.0 56.0 58.0 60.0\n",
      "  * lon      (lon) float32 220.0 222.5 225.0 227.5 ... 292.5 295.0 297.5 300.0\n",
      "    time     datetime64[ns] 1958-01-01\n",
      "Attributes:\n",
      "    long_name:     Hourly Accumulated Precipitation\n",
      "    valid_range:   [ 0. 10.]\n",
      "    actual_range:  [0.       2.501152]\n",
      "    units:         in\n",
      "    precision:     2\n",
      "    var_desc:      Precipitation\n",
      "    dataset:       CPC 2x2.5 Hourly US Precipitation\n",
      "    level_desc:    Surface\n",
      "    statistic:     Hourly Accumulation\n",
      "    parent_stat:   Observation\n",
      "    cell_methods:  time: mean\n"
     ]
    }
   ],
   "source": [
    "print(precip[0])"
   ]
  }
 ],
 "metadata": {
  "kernelspec": {
   "display_name": "Python 3 (ipykernel)",
   "language": "python",
   "name": "python3"
  },
  "language_info": {
   "codemirror_mode": {
    "name": "ipython",
    "version": 3
   },
   "file_extension": ".py",
   "mimetype": "text/x-python",
   "name": "python",
   "nbconvert_exporter": "python",
   "pygments_lexer": "ipython3",
   "version": "3.11.5"
  }
 },
 "nbformat": 4,
 "nbformat_minor": 5
}
